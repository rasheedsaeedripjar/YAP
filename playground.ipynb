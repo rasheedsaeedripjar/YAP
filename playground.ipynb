{
 "cells": [
  {
   "cell_type": "code",
   "execution_count": 21,
   "metadata": {},
   "outputs": [],
   "source": [
    "import requests\n",
    "from requests.exceptions import HTTPError\n",
    "from sys import argv\n",
    "from pathlib import Path"
   ]
  },
  {
   "cell_type": "code",
   "execution_count": 23,
   "metadata": {},
   "outputs": [],
   "source": [
    "#\n",
    "# Utils\n",
    "#\n",
    "def insert_newline(file, amount=1):\n",
    "    file.write('\\n' * amount)\n",
    "\n",
    "def imitate_tabs(amount, text, newline=False) -> str:\n",
    "    return (\" \" * amount) + text"
   ]
  },
  {
   "cell_type": "code",
   "execution_count": 25,
   "metadata": {},
   "outputs": [],
   "source": [
    "def valid_yaml_file(url) -> bool:\n",
    "    for valid_extension in ['yml', 'yaml']:\n",
    "        if url.endswith(valid_extension):\n",
    "            return True\n",
    "    return False"
   ]
  },
  {
   "cell_type": "code",
   "execution_count": 26,
   "metadata": {},
   "outputs": [],
   "source": [
    "def fetch(url) -> str:\n",
    "    resp = requests.get(url)\n",
    "    if resp.status_code != 200:\n",
    "        raise HTTPError(f\"Resp is not 200. Response code: {resp.status_code}\")\n",
    "    return resp.text"
   ]
  },
  {
   "cell_type": "code",
   "execution_count": 16,
   "metadata": {},
   "outputs": [],
   "source": [
    "def add_yaml_to_file(target_yml, text):\n",
    "    with open(target_yml, 'a') as file:\n",
    "        insert_newline(file)\n",
    "        file.write(f\"- name: {input('Title of action')}\")\n",
    "        insert_newline(file)\n",
    "        file.write(imitate_tabs(2, 'k8s:'))\n",
    "        insert_newline(file)\n",
    "        file.write(imitate_tabs(4, f\"state: {input('Add state')})\"))\n",
    "        insert_newline(file)\n",
    "        file.write(imitate_tabs(4, 'definition:'))\n",
    "        insert_newline(file)\n",
    "        for line in text.split('\\n'):\n",
    "            file.write(imitate_tabs(6, line))\n",
    "            insert_newline(file)\n"
   ]
  },
  {
   "cell_type": "code",
   "execution_count": null,
   "metadata": {},
   "outputs": [],
   "source": [
    "def main(argv):\n",
    "    if not argv:\n",
    "        raise ValueError('No args passed!')\n",
    "    if len(argv) > 2:\n",
    "        raise ValueError('More than two arguments passed! Only execting an absolute filepath and url (raw github)')\n",
    "    file, url = argv\n",
    "\n",
    "    if not Path(file).exists():\n",
    "        raise FileExistsError('The passed file does not exist... please first create it.')\n",
    "\n",
    "    if not valid_yaml_file(url):\n",
    "        raise ValueError('The provide url does not end in yml/yml. Please provide a valid link.')\n",
    "\n",
    "    print(\n",
    "        'Ensure details are correct', \n",
    "            f'\\t - file: {file}', '\\n',\n",
    "            f'\\t - url: {url}', '\\n',\n",
    "        'If your happy with these details please type \"y\" otherwise the operation will be cancelled',\n",
    "    )\n",
    "    response = input('')\n",
    "    exit if response == 'y' else add_yaml_to_file(file, fetch(url))"
   ]
  },
  {
   "cell_type": "markdown",
   "metadata": {},
   "source": []
  }
 ],
 "metadata": {
  "kernelspec": {
   "display_name": "yap",
   "language": "python",
   "name": "python3"
  },
  "language_info": {
   "codemirror_mode": {
    "name": "ipython",
    "version": 3
   },
   "file_extension": ".py",
   "mimetype": "text/x-python",
   "name": "python",
   "nbconvert_exporter": "python",
   "pygments_lexer": "ipython3",
   "version": "3.9.6"
  },
  "orig_nbformat": 4,
  "vscode": {
   "interpreter": {
    "hash": "02f7192f68acf8b4fd94b8ae5ebbde75a0c37a8cba17dc9b333c7ff1234ad563"
   }
  }
 },
 "nbformat": 4,
 "nbformat_minor": 2
}
